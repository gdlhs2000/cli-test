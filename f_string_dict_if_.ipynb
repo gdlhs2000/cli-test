{
  "nbformat": 4,
  "nbformat_minor": 0,
  "metadata": {
    "colab": {
      "provenance": [],
      "include_colab_link": true
    },
    "kernelspec": {
      "name": "python3",
      "display_name": "Python 3"
    },
    "language_info": {
      "name": "python"
    }
  },
  "cells": [
    {
      "cell_type": "markdown",
      "metadata": {
        "id": "view-in-github",
        "colab_type": "text"
      },
      "source": [
        "<a href=\"https://colab.research.google.com/github/gdlhs2000/cli-test/blob/main/f_string_dict_if_.ipynb\" target=\"_parent\"><img src=\"https://colab.research.google.com/assets/colab-badge.svg\" alt=\"Open In Colab\"/></a>"
      ]
    },
    {
      "cell_type": "markdown",
      "metadata": {
        "id": "E8LgGlmDh-T2"
      },
      "source": [
        "# print문에 변수를 함께 출력하는 방법 (f-string)"
      ]
    },
    {
      "cell_type": "code",
      "metadata": {
        "colab": {
          "base_uri": "https://localhost:8080/"
        },
        "id": "ZQRWL7ach-T2",
        "outputId": "cdf5a62e-acac-4544-e19f-22cd191ecf6d"
      },
      "source": [
        "print(\"Hello\")"
      ],
      "execution_count": null,
      "outputs": [
        {
          "output_type": "stream",
          "text": [
            "Hello\n"
          ],
          "name": "stdout"
        }
      ]
    },
    {
      "cell_type": "code",
      "metadata": {
        "id": "LQLx4M6Sh-T3"
      },
      "source": [],
      "execution_count": null,
      "outputs": []
    },
    {
      "cell_type": "code",
      "metadata": {
        "colab": {
          "base_uri": "https://localhost:8080/"
        },
        "id": "XL9_VS0Wh-T4",
        "outputId": "cc5115a2-3f71-40ea-9376-5afd62393582"
      },
      "source": [
        "a = 30\n",
        "print(\"숫자 a는 \" + str(a) + \" 입니다.\")"
      ],
      "execution_count": null,
      "outputs": [
        {
          "output_type": "stream",
          "text": [
            "숫자 a는 30 입니다.\n"
          ],
          "name": "stdout"
        }
      ]
    },
    {
      "cell_type": "code",
      "metadata": {
        "id": "srz-6ojJh-T4",
        "colab": {
          "base_uri": "https://localhost:8080/"
        },
        "outputId": "ec6e23a4-4bd5-48bf-f208-4100d608998a"
      },
      "source": [],
      "execution_count": null,
      "outputs": [
        {
          "output_type": "stream",
          "text": [
            "\n"
          ],
          "name": "stdout"
        }
      ]
    },
    {
      "cell_type": "code",
      "metadata": {
        "colab": {
          "base_uri": "https://localhost:8080/"
        },
        "id": "_QDLDq4Hh-T5",
        "outputId": "6701f666-1179-4b48-c085-939b9881b320"
      },
      "source": [
        "b = 150\n",
        "print(f\"f-string 문법을 이용한  숫자 b 출력 = {b}\")"
      ],
      "execution_count": null,
      "outputs": [
        {
          "output_type": "stream",
          "text": [
            "f-string 문법을 이용한  숫자 b 출력 = 150\n"
          ],
          "name": "stdout"
        }
      ]
    },
    {
      "cell_type": "code",
      "metadata": {
        "colab": {
          "base_uri": "https://localhost:8080/"
        },
        "id": "3srjgRqNh-T5",
        "outputId": "36860ba2-7dfd-4573-aeae-3ddd2628d6e7"
      },
      "source": [],
      "execution_count": null,
      "outputs": [
        {
          "output_type": "stream",
          "text": [
            "\n"
          ],
          "name": "stdout"
        }
      ]
    },
    {
      "cell_type": "code",
      "metadata": {
        "colab": {
          "base_uri": "https://localhost:8080/"
        },
        "id": "3RsUY-v4h-T5",
        "outputId": "0d64c668-8186-444b-f1c7-0ad1abed370e"
      },
      "source": [
        "pie = 3.14159265358979323846264338327950288\n",
        "print(f\"원주율 = {pie}\")"
      ],
      "execution_count": null,
      "outputs": [
        {
          "output_type": "stream",
          "text": [
            "원주율 = 3.141592653589793\n"
          ],
          "name": "stdout"
        }
      ]
    },
    {
      "cell_type": "code",
      "metadata": {
        "colab": {
          "base_uri": "https://localhost:8080/"
        },
        "id": "zYrpd6Q7h-T6",
        "outputId": "8f0425bd-ef99-4dfe-bbe0-ec99d39102eb"
      },
      "source": [],
      "execution_count": null,
      "outputs": [
        {
          "output_type": "stream",
          "text": [
            "\n"
          ],
          "name": "stdout"
        }
      ]
    },
    {
      "cell_type": "code",
      "metadata": {
        "id": "kWhHRnhYh-T6",
        "colab": {
          "base_uri": "https://localhost:8080/"
        },
        "outputId": "94ad6ba0-33a3-44a8-8746-3f53f2d7fc5f"
      },
      "source": [
        "pie = 3.14159265358979323846264338327950288\n",
        "print(f\"원주율 (반올림) = {pie:.2f}\")"
      ],
      "execution_count": null,
      "outputs": [
        {
          "output_type": "stream",
          "text": [
            "원주율 (반올림) = 3.14\n"
          ],
          "name": "stdout"
        }
      ]
    },
    {
      "cell_type": "code",
      "metadata": {
        "id": "ImVHB49Fh-T7",
        "colab": {
          "base_uri": "https://localhost:8080/"
        },
        "outputId": "1c769ed7-2442-46a8-f0d1-5afc5d798c60"
      },
      "source": [],
      "execution_count": null,
      "outputs": [
        {
          "output_type": "stream",
          "text": [
            "\n"
          ],
          "name": "stdout"
        }
      ]
    },
    {
      "cell_type": "code",
      "metadata": {
        "colab": {
          "base_uri": "https://localhost:8080/"
        },
        "id": "Z3xdqy9Yh-T7",
        "outputId": "5969bac4-c316-4e42-d3b4-c4c08d9dca1f"
      },
      "source": [
        "print(f\"{pie*2 + 10}\")"
      ],
      "execution_count": null,
      "outputs": [
        {
          "output_type": "stream",
          "text": [
            "16.283185307179586\n"
          ],
          "name": "stdout"
        }
      ]
    },
    {
      "cell_type": "code",
      "metadata": {
        "colab": {
          "base_uri": "https://localhost:8080/"
        },
        "id": "fC3Uwenqh-T7",
        "outputId": "15bdf3da-db69-427d-ebe8-8a98b94a002d"
      },
      "source": [],
      "execution_count": null,
      "outputs": [
        {
          "output_type": "stream",
          "text": [
            "\n"
          ],
          "name": "stdout"
        }
      ]
    },
    {
      "cell_type": "markdown",
      "metadata": {
        "id": "RpKh7VZ8h-T8"
      },
      "source": [
        "# 이름을 붙여 변수를 저장하는 사전, dict"
      ]
    },
    {
      "cell_type": "code",
      "metadata": {
        "colab": {
          "base_uri": "https://localhost:8080/"
        },
        "id": "bHLidJumh-T8",
        "outputId": "986d0e0e-d2ce-485c-96cd-8a5b07f3fc28"
      },
      "source": [
        "my_dict = {}\n",
        "my_dict"
      ],
      "execution_count": null,
      "outputs": [
        {
          "output_type": "execute_result",
          "data": {
            "text/plain": [
              "{}"
            ]
          },
          "metadata": {
            "tags": []
          },
          "execution_count": 49
        }
      ]
    },
    {
      "cell_type": "code",
      "metadata": {
        "id": "JmN6l5c9h-T8"
      },
      "source": [],
      "execution_count": null,
      "outputs": []
    },
    {
      "cell_type": "code",
      "metadata": {
        "colab": {
          "base_uri": "https://localhost:8080/"
        },
        "id": "3l4jgtk2h-T8",
        "outputId": "e69fba2d-1201-4804-c58e-68a26657db5a"
      },
      "source": [
        "my_dict = {\n",
        "    '이름': '홍길동',\n",
        "    '강의': '원티드',\n",
        "    '키': 185,\n",
        "    'pie': 3.141592,\n",
        "    '리스트': [1,2,3,4,5]\n",
        "}\n",
        "my_dict"
      ],
      "execution_count": null,
      "outputs": [
        {
          "output_type": "execute_result",
          "data": {
            "text/plain": [
              "{'pie': 3.141592, '강의': '원티드', '리스트': [1, 2, 3, 4, 5], '이름': '홍길동', '키': 185}"
            ]
          },
          "metadata": {
            "tags": []
          },
          "execution_count": 50
        }
      ]
    },
    {
      "cell_type": "code",
      "metadata": {
        "id": "nYuOizzZh-T9"
      },
      "source": [],
      "execution_count": null,
      "outputs": []
    },
    {
      "cell_type": "code",
      "metadata": {
        "colab": {
          "base_uri": "https://localhost:8080/",
          "height": 35
        },
        "id": "k3jDEjprh-T9",
        "outputId": "723481ba-01e4-48ae-c8e0-b8a43862d7b2"
      },
      "source": [
        "my_dict['이름']"
      ],
      "execution_count": null,
      "outputs": [
        {
          "output_type": "execute_result",
          "data": {
            "application/vnd.google.colaboratory.intrinsic+json": {
              "type": "string"
            },
            "text/plain": [
              "'홍길동'"
            ]
          },
          "metadata": {
            "tags": []
          },
          "execution_count": 51
        }
      ]
    },
    {
      "cell_type": "code",
      "metadata": {
        "id": "x-gcGMtUh-T9"
      },
      "source": [],
      "execution_count": null,
      "outputs": []
    },
    {
      "cell_type": "code",
      "metadata": {
        "id": "vmgl5ROAh-T-"
      },
      "source": [
        "my_dict['pie']"
      ],
      "execution_count": null,
      "outputs": []
    },
    {
      "cell_type": "code",
      "metadata": {
        "id": "fznrvWwvh-T-"
      },
      "source": [],
      "execution_count": null,
      "outputs": []
    },
    {
      "cell_type": "code",
      "metadata": {
        "id": "-i9PcxeAh-T-"
      },
      "source": [
        "my_dict['리스트']"
      ],
      "execution_count": null,
      "outputs": []
    },
    {
      "cell_type": "code",
      "metadata": {
        "id": "Vh988SCph-T_"
      },
      "source": [],
      "execution_count": null,
      "outputs": []
    },
    {
      "cell_type": "code",
      "metadata": {
        "id": "dUsArMRPh-T_"
      },
      "source": [
        "my_dict['리스트'][3]"
      ],
      "execution_count": null,
      "outputs": []
    },
    {
      "cell_type": "code",
      "metadata": {
        "id": "QPR6zztAh-T_"
      },
      "source": [],
      "execution_count": null,
      "outputs": []
    },
    {
      "cell_type": "code",
      "metadata": {
        "id": "jRhZ-zIQh-UA"
      },
      "source": [
        "# 기존의 key에 대한 value 수정하기\n",
        "my_dict['이름'] = '임꺽정'"
      ],
      "execution_count": null,
      "outputs": []
    },
    {
      "cell_type": "code",
      "metadata": {
        "id": "JzvgRstUh-UB"
      },
      "source": [],
      "execution_count": null,
      "outputs": []
    },
    {
      "cell_type": "code",
      "metadata": {
        "id": "eK4Bm1Ech-UB"
      },
      "source": [
        "# 새로운 key와 value 추가하기\n",
        "my_dict['직업'] = '의적'"
      ],
      "execution_count": null,
      "outputs": []
    },
    {
      "cell_type": "code",
      "metadata": {
        "id": "7gHjEbq7h-UB"
      },
      "source": [],
      "execution_count": null,
      "outputs": []
    },
    {
      "cell_type": "code",
      "metadata": {
        "id": "ApJLYnwAh-UB"
      },
      "source": [
        "my_dict"
      ],
      "execution_count": null,
      "outputs": []
    },
    {
      "cell_type": "code",
      "metadata": {
        "id": "ocj-1CfJh-UC"
      },
      "source": [],
      "execution_count": null,
      "outputs": []
    },
    {
      "cell_type": "code",
      "metadata": {
        "id": "4Mlv5Vz0h-UC"
      },
      "source": [
        "my_dict.keys()"
      ],
      "execution_count": null,
      "outputs": []
    },
    {
      "cell_type": "code",
      "metadata": {
        "id": "mEBEVP8Fh-UC"
      },
      "source": [],
      "execution_count": null,
      "outputs": []
    },
    {
      "cell_type": "code",
      "metadata": {
        "id": "pyzW3DW0h-UC"
      },
      "source": [
        "my_dict.values()"
      ],
      "execution_count": null,
      "outputs": []
    },
    {
      "cell_type": "code",
      "metadata": {
        "id": "veJHQewfh-UD"
      },
      "source": [],
      "execution_count": null,
      "outputs": []
    },
    {
      "cell_type": "code",
      "metadata": {
        "id": "yWIlJCnUh-UD"
      },
      "source": [],
      "execution_count": null,
      "outputs": []
    },
    {
      "cell_type": "code",
      "metadata": {
        "id": "DndTDtl6novv"
      },
      "source": [],
      "execution_count": null,
      "outputs": []
    },
    {
      "cell_type": "markdown",
      "metadata": {
        "id": "gAxZgqreB0Wn"
      },
      "source": [
        "# if ~ elif ~ else로 원하는 조건 테스트 하기"
      ]
    },
    {
      "cell_type": "code",
      "metadata": {
        "colab": {
          "base_uri": "https://localhost:8080/"
        },
        "id": "fJMw56qSB1At",
        "outputId": "3de4b4e7-6fdf-4c25-c4a0-ea92b2f9b77f"
      },
      "source": [
        "numbers = [1, 2, 3, 4, 5, 7, 9, 12, 14, 18]\n",
        "\n",
        "for n in numbers:\n",
        "    if n < 5:\n",
        "        print(f\"{n}은 5보다 작습니다.\")"
      ],
      "execution_count": null,
      "outputs": [
        {
          "output_type": "stream",
          "text": [
            "1은 5보다 작습니다.\n",
            "2은 5보다 작습니다.\n",
            "3은 5보다 작습니다.\n",
            "4은 5보다 작습니다.\n"
          ],
          "name": "stdout"
        }
      ]
    },
    {
      "cell_type": "code",
      "metadata": {
        "id": "5kI-EuX0ooE2"
      },
      "source": [],
      "execution_count": null,
      "outputs": []
    },
    {
      "cell_type": "code",
      "metadata": {
        "colab": {
          "base_uri": "https://localhost:8080/"
        },
        "id": "TnqdKajzB3Bj",
        "outputId": "7a2e2c4e-d843-42a6-8f02-142eb1e7f3dc"
      },
      "source": [
        "numbers = [1, 2, 3, 4, 5, 7, 9, 12, 14, 18]\n",
        "\n",
        "for n in numbers:\n",
        "    if n < 5:\n",
        "        print(f\"{n}은 5보다 작습니다.\")\n",
        "    elif n % 2 == 0:\n",
        "        print(f\"{n}은 2로 나누어 떨어집니다.\")\n",
        "    else:\n",
        "        print(f\"{n}은 else문에서 출력됨 (둘 다 아님)\")"
      ],
      "execution_count": null,
      "outputs": [
        {
          "output_type": "stream",
          "text": [
            "1은 5보다 작습니다.\n",
            "2은 5보다 작습니다.\n",
            "3은 5보다 작습니다.\n",
            "4은 5보다 작습니다.\n",
            "5은 else문에서 출력됨 (둘 다 아님)\n",
            "7은 else문에서 출력됨 (둘 다 아님)\n",
            "9은 else문에서 출력됨 (둘 다 아님)\n",
            "12은 2로 나누어 떨어집니다.\n",
            "14은 2로 나누어 떨어집니다.\n",
            "18은 2로 나누어 떨어집니다.\n"
          ],
          "name": "stdout"
        }
      ]
    },
    {
      "cell_type": "code",
      "metadata": {
        "id": "QyWOUNCiopxh"
      },
      "source": [],
      "execution_count": null,
      "outputs": []
    },
    {
      "cell_type": "code",
      "metadata": {
        "colab": {
          "base_uri": "https://localhost:8080/"
        },
        "id": "NrtEZUHIB42z",
        "outputId": "63a48f15-aa3c-4d11-c7c8-fb9387f1229b"
      },
      "source": [
        "numbers = [1, 2, 3, 4, 5, 7, 9, 12, 14, 18]\n",
        "\n",
        "for n in numbers:\n",
        "    if n < 5:\n",
        "        print(f\"{n}은 5보다 작습니다.\")\n",
        "\n",
        "    if n % 2 == 0:\n",
        "        print(f\"{n}은 2로 나누어 떨어집니다.\")\n",
        "\n",
        "    if n % 3 == 0:\n",
        "        print(f\"{n}은 3으로 나누어 떨어집니다.\")"
      ],
      "execution_count": null,
      "outputs": [
        {
          "output_type": "stream",
          "text": [
            "1은 5보다 작습니다.\n",
            "2은 5보다 작습니다.\n",
            "2은 2로 나누어 떨어집니다.\n",
            "3은 5보다 작습니다.\n",
            "3은 3으로 나누어 떨어집니다.\n",
            "4은 5보다 작습니다.\n",
            "4은 2로 나누어 떨어집니다.\n",
            "9은 3으로 나누어 떨어집니다.\n",
            "12은 2로 나누어 떨어집니다.\n",
            "12은 3으로 나누어 떨어집니다.\n",
            "14은 2로 나누어 떨어집니다.\n",
            "18은 2로 나누어 떨어집니다.\n",
            "18은 3으로 나누어 떨어집니다.\n"
          ],
          "name": "stdout"
        }
      ]
    },
    {
      "cell_type": "code",
      "metadata": {
        "id": "L9zciYJ3oqOj"
      },
      "source": [],
      "execution_count": null,
      "outputs": []
    },
    {
      "cell_type": "code",
      "metadata": {
        "colab": {
          "base_uri": "https://localhost:8080/"
        },
        "id": "3Er7AreaB7I3",
        "outputId": "59e87998-5396-451f-cfe5-3accebdcfc50"
      },
      "source": [
        "numbers = [1, 2, 3, 4, 5, 7, 9, 12, 14, 18]\n",
        "\n",
        "for n in numbers:\n",
        "    if n < 9:\n",
        "        print(f\"{n}은 9보다 작습니다.\")\n",
        "\n",
        "        if n % 2 == 0:\n",
        "            print(f\"{n}은 2로 나누어 떨어집니다.\")"
      ],
      "execution_count": null,
      "outputs": [
        {
          "output_type": "stream",
          "text": [
            "1은 9보다 작습니다.\n",
            "2은 9보다 작습니다.\n",
            "2은 2로 나누어 떨어집니다.\n",
            "3은 9보다 작습니다.\n",
            "4은 9보다 작습니다.\n",
            "4은 2로 나누어 떨어집니다.\n",
            "5은 9보다 작습니다.\n",
            "7은 9보다 작습니다.\n"
          ],
          "name": "stdout"
        }
      ]
    },
    {
      "cell_type": "code",
      "metadata": {
        "id": "BMnp_Z4YB-Be"
      },
      "source": [],
      "execution_count": null,
      "outputs": []
    },
    {
      "cell_type": "code",
      "metadata": {
        "id": "x5qkpP9SowGi"
      },
      "source": [],
      "execution_count": null,
      "outputs": []
    }
  ]
}